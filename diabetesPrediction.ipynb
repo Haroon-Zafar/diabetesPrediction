{
 "cells": [
  {
   "cell_type": "code",
   "execution_count": null,
   "metadata": {},
   "outputs": [],
   "source": [
    "# Importing Dependencies\n",
    "\n",
    "# numpy and pandas for creating dataframes\n",
    "import numpy as np \n",
    "import pandas as pd \n",
    "\n",
    "# StandardScalar for standardization of data\n",
    "from sklearn.preprocessing import StandardScaler\n",
    "\n",
    "# split data into training and testing \n",
    "from sklearn.model_selection import train_test_split\n",
    "\n",
    "from sklearn import svm \n",
    "from sklearn.metrics import accuracy_score\n"
   ]
  },
  {
   "cell_type": "code",
   "execution_count": null,
   "metadata": {},
   "outputs": [],
   "source": []
  }
 ],
 "metadata": {
  "kernelspec": {
   "display_name": "Python 3.7.7 64-bit",
   "language": "python",
   "name": "python3"
  },
  "language_info": {
   "name": "python",
   "version": "3.7.7"
  },
  "orig_nbformat": 4,
  "vscode": {
   "interpreter": {
    "hash": "69713e280fccb9aa802931bf1b98f79efcfe938b3ab1e86cc85b2e647522a81d"
   }
  }
 },
 "nbformat": 4,
 "nbformat_minor": 2
}
